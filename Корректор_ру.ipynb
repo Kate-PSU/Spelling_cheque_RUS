{
  "nbformat": 4,
  "nbformat_minor": 0,
  "metadata": {
    "colab": {
      "provenance": []
    },
    "kernelspec": {
      "name": "python3",
      "display_name": "Python 3"
    },
    "language_info": {
      "name": "python"
    }
  },
  "cells": [
    {
      "cell_type": "code",
      "execution_count": null,
      "metadata": {
        "colab": {
          "base_uri": "https://localhost:8080/"
        },
        "id": "0f55OrqzIGYo",
        "outputId": "c86e66f8-b8a2-4cb8-bff0-51e20ecb6469"
      },
      "outputs": [
        {
          "output_type": "stream",
          "name": "stdout",
          "text": [
            "Collecting language_tool_python\n",
            "  Downloading language_tool_python-2.8.1-py3-none-any.whl.metadata (12 kB)\n",
            "Requirement already satisfied: pip in /usr/local/lib/python3.10/dist-packages (from language_tool_python) (24.1.2)\n",
            "Requirement already satisfied: requests in /usr/local/lib/python3.10/dist-packages (from language_tool_python) (2.32.3)\n",
            "Requirement already satisfied: tqdm in /usr/local/lib/python3.10/dist-packages (from language_tool_python) (4.66.6)\n",
            "Requirement already satisfied: wheel in /usr/local/lib/python3.10/dist-packages (from language_tool_python) (0.45.1)\n",
            "Requirement already satisfied: charset-normalizer<4,>=2 in /usr/local/lib/python3.10/dist-packages (from requests->language_tool_python) (3.4.0)\n",
            "Requirement already satisfied: idna<4,>=2.5 in /usr/local/lib/python3.10/dist-packages (from requests->language_tool_python) (3.10)\n",
            "Requirement already satisfied: urllib3<3,>=1.21.1 in /usr/local/lib/python3.10/dist-packages (from requests->language_tool_python) (2.2.3)\n",
            "Requirement already satisfied: certifi>=2017.4.17 in /usr/local/lib/python3.10/dist-packages (from requests->language_tool_python) (2024.8.30)\n",
            "Downloading language_tool_python-2.8.1-py3-none-any.whl (35 kB)\n",
            "Installing collected packages: language_tool_python\n",
            "Successfully installed language_tool_python-2.8.1\n"
          ]
        }
      ],
      "source": [
        "!pip install language_tool_python\n",
        "import language_tool_python"
      ]
    },
    {
      "cell_type": "code",
      "source": [
        "# Создаем экземпляр инструмента для русского языка\n",
        "tool = language_tool_python.LanguageTool('ru-RU')"
      ],
      "metadata": {
        "id": "f3wMhOumUCUn",
        "colab": {
          "base_uri": "https://localhost:8080/"
        },
        "outputId": "6192a634-8612-4fa9-ff38-6f6259f17a34"
      },
      "execution_count": null,
      "outputs": [
        {
          "output_type": "stream",
          "name": "stderr",
          "text": [
            "Downloading LanguageTool 6.4: 100%|██████████| 246M/246M [00:05<00:00, 41.6MB/s]\n",
            "INFO:language_tool_python.download_lt:Unzipping /tmp/tmp1raprool.zip to /root/.cache/language_tool_python.\n",
            "INFO:language_tool_python.download_lt:Downloaded https://www.languagetool.org/download/LanguageTool-6.4.zip to /root/.cache/language_tool_python.\n"
          ]
        }
      ]
    },
    {
      "cell_type": "code",
      "source": [
        "# Функция для исправления грамматических и орфографических ошибок в предложении\n",
        "def correct_grammar_and_spelling(sentence):\n",
        "    matches = tool.check(sentence)\n",
        "    corrected_sentence = sentence\n",
        "    for match in reversed(matches):  # Обрабатываем ошибки в обратном порядке\n",
        "        if match.replacements:  # Проверяем, есть ли замены для ошибки\n",
        "            start = match.offset\n",
        "            end = match.offset + match.errorLength\n",
        "            corrected_sentence = corrected_sentence[:start] + match.replacements[0]\\\n",
        "             + corrected_sentence[end:]\n",
        "    return corrected_sentence"
      ],
      "metadata": {
        "id": "Wx9eKZKGAON0"
      },
      "execution_count": null,
      "outputs": []
    },
    {
      "cell_type": "code",
      "source": [
        "# Функция для исправления ошибок капитализации\n",
        "def correct_capitalization(text):\n",
        "    # Разбиваем текст на предложения\n",
        "    sentences = text.split('. ')\n",
        "    corrected_sentences = []\n",
        "    for sentence in sentences:\n",
        "        # Исправляем первую букву предложения\n",
        "        corrected_sentence = sentence[:1].upper() + sentence[1:] if sentence else sentence\n",
        "        corrected_sentences.append(corrected_sentence)\n",
        "    return '. '.join(corrected_sentences)\n"
      ],
      "metadata": {
        "id": "Tu19BT1oYE8B"
      },
      "execution_count": null,
      "outputs": []
    },
    {
      "cell_type": "code",
      "source": [
        "# Функция для обработки текста из файла\n",
        "def process_text_file(input_file, output_file):\n",
        "    try:\n",
        "        # Открываем файл для чтения\n",
        "        with open(input_file, 'r', encoding='utf-8') as file:\n",
        "            text = file.read()\n",
        "\n",
        "        # Корректируем текст\n",
        "        corrected_sentences = []\n",
        "        for sentence in text.split('\\n'):\n",
        "            corrected_sentence = correct_grammar_and_spelling(sentence)\n",
        "            corrected_sentences.append(corrected_sentence)\n",
        "\n",
        "        # Объединяем предложения в текст\n",
        "        corrected_text = '\\n'.join(corrected_sentences)\n",
        "\n",
        "        # Исправляем капитализацию в тексте\n",
        "        fully_corrected_text = correct_capitalization(corrected_text)\n",
        "\n",
        "        # Сохраняем исправленный текст в новый файл\n",
        "        with open(output_file, 'w', encoding='utf-8') as file:\n",
        "            file.write(fully_corrected_text)\n",
        "\n",
        "        print(f\"Обработка завершена. Исправленный текст сохранен в файл: {output_file}\")\n",
        "\n",
        "    except Exception as e:\n",
        "        print(f\"Ошибка при обработке файла: {e}\")"
      ],
      "metadata": {
        "id": "CBwEE6xvUMGI"
      },
      "execution_count": null,
      "outputs": []
    },
    {
      "cell_type": "code",
      "source": [
        "# Пример использования\n",
        "input_file = 'input.txt'  # Имя входного файла\n",
        "output_file = 'corrected_output.txt'  # Имя выходного файла\n",
        "\n",
        "# Загрузка, обработка и сохранение текста\n",
        "process_text_file(input_file, output_file)"
      ],
      "metadata": {
        "colab": {
          "base_uri": "https://localhost:8080/"
        },
        "id": "cZjs_NZFUj4z",
        "outputId": "06da7903-b121-4e28-cfab-3f198ea4a99d"
      },
      "execution_count": null,
      "outputs": [
        {
          "output_type": "stream",
          "name": "stdout",
          "text": [
            "Обработка завершена. Исправленный текст сохранен в файл: corrected_output.txt\n"
          ]
        }
      ]
    },
    {
      "cell_type": "code",
      "source": [
        "import pandas as pd\n",
        "\n",
        "def compare_files_and_calculate_metrics(input_file, corrected_file, reference_file):\n",
        "    \"\"\"\n",
        "    Сравнивает три файла (исходный, исправленный и контрольный) и вычисляет Precision, Recall и F1-Score.\n",
        "    Также формирует датафрейм с детализацией ошибок на уровне слов.\n",
        "\n",
        "    :param input_file: Исходный файл с ошибками.\n",
        "    :param corrected_file: Файл с исправлениями, полученный от алгоритма.\n",
        "    :param reference_file: Контрольный файл без ошибок.\n",
        "    :return: Метрики Precision, Recall, F1-Score и датафрейм с детализацией ошибок.\n",
        "    \"\"\"\n",
        "    try:\n",
        "        # Чтение файлов\n",
        "        with open(input_file, 'r', encoding='utf-8') as f:\n",
        "            input_text = f.read().splitlines()\n",
        "\n",
        "        with open(corrected_file, 'r', encoding='utf-8') as f:\n",
        "            corrected_text = f.read().splitlines()\n",
        "\n",
        "        with open(reference_file, 'r', encoding='utf-8') as f:\n",
        "            reference_text = f.read().splitlines()\n",
        "\n",
        "        # Проверка длины файлов\n",
        "        if not (len(input_text) == len(corrected_text) == len(reference_text)):\n",
        "            raise ValueError(\"Файлы должны содержать одинаковое количество строк для корректного сравнения.\")\n",
        "\n",
        "        # Инициализация счетчиков\n",
        "        true_positive = 0  # Правильно исправленные ошибки\n",
        "        false_positive = 0  # Ложные исправления (там, где не было ошибки)\n",
        "        false_negative = 0  # Пропущенные ошибки\n",
        "\n",
        "        # Список для формирования датафрейма\n",
        "        error_details = []\n",
        "\n",
        "        # Сравнение строк на уровне слов\n",
        "        for i in range(len(input_text)):\n",
        "            input_words = input_text[i].split()\n",
        "            corrected_words = corrected_text[i].split()\n",
        "            reference_words = reference_text[i].split()\n",
        "\n",
        "            max_len = max(len(input_words), len(corrected_words), len(reference_words))\n",
        "\n",
        "            for j in range(max_len):\n",
        "                input_word = input_words[j] if j < len(input_words) else ''\n",
        "                corrected_word = corrected_words[j] if j < len(corrected_words) else ''\n",
        "                reference_word = reference_words[j] if j < len(reference_words) else ''\n",
        "\n",
        "                # Если ошибка исправлена правильно\n",
        "                if input_word != reference_word and corrected_word == reference_word:\n",
        "                    true_positive += 1\n",
        "                    error_details.append({\n",
        "                        'Исходное слово': input_word,\n",
        "                        'Исправленное слово': corrected_word,\n",
        "                        'Ожидаемое слово': reference_word,\n",
        "                        'Статус': 'True Positive'\n",
        "                    })\n",
        "                # Если алгоритм внёс исправление, но ошибки не было\n",
        "                elif input_word == reference_word and corrected_word != reference_word:\n",
        "                    false_positive += 1\n",
        "                    error_details.append({\n",
        "                        'Исходное слово': input_word,\n",
        "                        'Исправленное слово': corrected_word,\n",
        "                        'Ожидаемое слово': reference_word,\n",
        "                        'Статус': 'False Positive'\n",
        "                    })\n",
        "                # Если ошибка не исправлена\n",
        "                elif input_word != reference_word and corrected_word != reference_word:\n",
        "                    false_negative += 1\n",
        "                    error_details.append({\n",
        "                        'Исходное слово': input_word,\n",
        "                        'Исправленное слово': corrected_word,\n",
        "                        'Ожидаемое слово': reference_word,\n",
        "                        'Статус': 'False Negative'\n",
        "                    })\n",
        "\n",
        "        # Вычисление метрик\n",
        "        precision = true_positive / (true_positive + false_positive) if (true_positive + false_positive) > 0 else 0\n",
        "        recall = true_positive / (true_positive + false_negative) if (true_positive + false_negative) > 0 else 0\n",
        "        f1_score = (2 * precision * recall) / (precision + recall) if (precision + recall) > 0 else 0\n",
        "\n",
        "        # Создание датафрейма\n",
        "        error_df = pd.DataFrame(error_details)\n",
        "\n",
        "        return precision, recall, f1_score, error_df\n",
        "\n",
        "    except Exception as e:\n",
        "        print(f\"Ошибка при вычислении метрик: {e}\")\n",
        "        return 0, 0, 0, pd.DataFrame()\n",
        "\n",
        "# Пример использования\n",
        "input_file = 'input.txt'  # Исходный файл с ошибками\n",
        "corrected_file = 'corrected_output.txt'  # Файл с исправлениями\n",
        "reference_file = 'reference.txt'  # Контрольный файл без ошибок\n",
        "\n",
        "precision, recall, f1_score, error_df = compare_files_and_calculate_metrics(input_file, corrected_file, reference_file)\n",
        "\n",
        "print(f\"Precision: {precision:.2f}\")\n",
        "print(f\"Recall: {recall:.2f}\")\n",
        "print(f\"F1 Score: {f1_score:.2f}\")\n",
        "\n",
        "# Вывод датафрейма\n",
        "if not error_df.empty:\n",
        "    print(\"\\nДетализация ошибок:\")\n",
        "    print(error_df)\n"
      ],
      "metadata": {
        "colab": {
          "base_uri": "https://localhost:8080/"
        },
        "id": "j4cCcqX-9h0E",
        "outputId": "0e34faf6-9d09-4a10-a81b-8331630943ba"
      },
      "execution_count": null,
      "outputs": [
        {
          "output_type": "stream",
          "name": "stdout",
          "text": [
            "Precision: 1.00\n",
            "Recall: 0.84\n",
            "F1 Score: 0.91\n",
            "\n",
            "Детализация ошибок:\n",
            "        Исходное слово  Исправленное слово     Ожидаемое слово          Статус\n",
            "0          беспилотные         Беспилотные         Беспилотные   True Positive\n",
            "1                (бас)               (бас)               (БАС)  False Negative\n",
            "2              нахотят             находят             находят   True Positive\n",
            "3           приминение          применение          применение   True Positive\n",
            "4        используються        используются        используются   True Positive\n",
            "5            например,           Например,           Например,   True Positive\n",
            "6               помощю              помощь             помощью  False Negative\n",
            "7               бистро              бистро              быстро  False Negative\n",
            "8        экалогических       экологических       экологических   True Positive\n",
            "9                также               Также               Также   True Positive\n",
            "10         приминяются         применяются         применяются   True Positive\n",
            "11           хазяйстве           хозяйстве           хозяйстве   True Positive\n",
            "12         оптимизацыи         оптимизации         оптимизации   True Positive\n",
            "13       эфективности.      эффективности.      эффективности.   True Positive\n",
            "14              однак,             Однако,             Однако,   True Positive\n",
            "15            вапросов            вопросов            вопросов   True Positive\n",
            "16       безопастности        безопасности        безопасности   True Positive\n",
            "17  конфеденцыальности  конфиденциальности  конфиденциальности   True Positive\n",
            "18              даных.             данных.             данных.   True Positive\n"
          ]
        }
      ]
    },
    {
      "cell_type": "code",
      "source": [],
      "metadata": {
        "id": "1_nS8FFU9hxv"
      },
      "execution_count": null,
      "outputs": []
    },
    {
      "cell_type": "code",
      "source": [],
      "metadata": {
        "id": "5Y1FVUBB9hvV"
      },
      "execution_count": null,
      "outputs": []
    },
    {
      "cell_type": "code",
      "source": [],
      "metadata": {
        "id": "trG_feoR9hs_"
      },
      "execution_count": null,
      "outputs": []
    },
    {
      "cell_type": "code",
      "source": [],
      "metadata": {
        "id": "3Vn5TOuTUjzh"
      },
      "execution_count": null,
      "outputs": []
    }
  ]
}